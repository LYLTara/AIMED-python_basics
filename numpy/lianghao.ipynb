{
 "metadata": {
  "language_info": {
   "codemirror_mode": {
    "name": "ipython",
    "version": 3
   },
   "file_extension": ".py",
   "mimetype": "text/x-python",
   "name": "python",
   "nbconvert_exporter": "python",
   "pygments_lexer": "ipython3",
   "version": "3.8.6-final"
  },
  "orig_nbformat": 2,
  "kernelspec": {
   "name": "python3",
   "display_name": "Python 3.8.6 64-bit",
   "metadata": {
    "interpreter": {
     "hash": "c0dec6e804590d09d2d5751f086879659bf0b54c05e14892802c3b23a2cc8e2d"
    }
   }
  }
 },
 "nbformat": 4,
 "nbformat_minor": 2,
 "cells": [
  {
   "cell_type": "code",
   "execution_count": 10,
   "metadata": {},
   "outputs": [
    {
     "output_type": "stream",
     "name": "stdout",
     "text": [
      "[[0 1 4]\n [4 4 0]\n [1 0 4]\n [0 1 2]\n [2 1 1]\n [1 4 2]\n [3 2 3]\n [2 1 2]]\n[[1 3]\n [1 4]]\n--------------------------------------------------\n(array([0, 0, 0, 1, 1, 2, 2, 2, 3, 3, 4, 4, 4, 4, 5, 5, 5, 6, 6, 7, 7],\n      dtype=int64), array([1, 1, 2, 0, 1, 0, 0, 2, 1, 1, 1, 1, 2, 2, 0, 0, 1, 0, 2, 1, 1],\n      dtype=int64), array([0, 1, 1, 1, 1, 0, 1, 1, 0, 1, 0, 1, 0, 1, 0, 1, 1, 0, 0, 0, 1],\n      dtype=int64), array([0, 0, 1, 1, 1, 0, 0, 1, 0, 0, 0, 0, 0, 0, 0, 0, 1, 1, 1, 0, 0],\n      dtype=int64))\n--------------------------------------------------\n(array([0, 0, 0, 1, 1, 2, 2, 2, 3, 3, 4, 4, 4, 4, 5, 5, 5, 6, 6, 7, 7],\n      dtype=int64), array([1, 1, 2, 0, 1, 0, 0, 2, 1, 1, 1, 1, 2, 2, 0, 0, 1, 0, 2, 1, 1],\n      dtype=int64), array([0, 1, 1, 1, 1, 0, 1, 1, 0, 1, 0, 1, 0, 1, 0, 1, 1, 0, 0, 0, 1],\n      dtype=int64))\n--------------------------------------------------\n(array([0, 0, 1, 1, 2, 2, 3, 4, 4, 5, 5, 6, 6, 7], dtype=int64), array([1, 2, 0, 1, 0, 2, 1, 1, 2, 0, 1, 0, 2, 1], dtype=int64), array([0, 1, 1, 1, 0, 1, 0, 0, 0, 0, 1, 1, 1, 0], dtype=int64))\n--------------------------------------------------\n(array([0, 0, 0, 1, 2, 2, 2, 3, 3, 4, 4, 5, 5, 5, 6, 7, 7], dtype=int64), array([0, 1, 1, 1, 0, 1, 1, 0, 1, 0, 1, 0, 1, 1, 0, 0, 1], dtype=int64), array([0, 0, 1, 1, 0, 0, 1, 0, 0, 0, 0, 0, 0, 1, 1, 0, 0], dtype=int64))\n--------------------------------------------------\n(array([0, 0, 1, 2, 2, 3, 3, 4, 4, 5, 5, 6, 7, 7], dtype=int64), array([0, 1, 1, 0, 1, 0, 1, 0, 1, 0, 1, 0, 0, 1], dtype=int64))\n--------------------------------------------------\n(array([0, 2, 3, 4, 5, 7], dtype=int64),)\n--------------------------------------------------\n[0 2 3 4 5 7]\n"
     ]
    }
   ],
   "source": [
    "import numpy as np\n",
    "A = np.random.randint(0,5,(8,3))\n",
    "B = np.random.randint(0,5,(2,2))\n",
    "\n",
    "C = (A[:,:,np.newaxis, np.newaxis] == B)\n",
    "print (A)\n",
    "print (B)\n",
    "\n",
    "rows = np.where(C.any((3,1)).all(1))[0]\n",
    "print ('-'*50)\n",
    "print (np.where(C))\n",
    "print ('-'*50)\n",
    "print (np.where(C.any((3))))\n",
    "print ('-'*50)\n",
    "print (np.where(C.any((2))))\n",
    "print ('-'*50)\n",
    "print (np.where(C.any((1))))\n",
    "print ('-'*50)\n",
    "print (np.where(C.any((3,1))))\n",
    "print ('-'*50)\n",
    "print (np.where(C.any((3,1)).all(1)))\n",
    "print ('-'*50)\n",
    "print (rows)\n"
   ]
  },
  {
   "cell_type": "code",
   "execution_count": null,
   "metadata": {},
   "outputs": [],
   "source": []
  },
  {
   "cell_type": "code",
   "execution_count": null,
   "metadata": {},
   "outputs": [],
   "source": []
  }
 ]
}
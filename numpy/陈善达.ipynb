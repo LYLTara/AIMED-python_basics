{
 "cells": [
  {
   "cell_type": "code",
   "execution_count": 4,
   "metadata": {},
   "outputs": [
    {
     "data": {
      "text/plain": [
       "49995828"
      ]
     },
     "execution_count": 4,
     "metadata": {},
     "output_type": "execute_result"
    }
   ],
   "source": [
    "#有一个非常大的数组，比如有1亿个数字，求出里面数字小于5000的数字数目。\n",
    "import numpy as np\n",
    "arr = np.random.randint(1,10000,size = int(1e8))\n",
    "arr[arr<5000].size"
   ]
  },
  {
   "cell_type": "code",
   "execution_count": 23,
   "metadata": {},
   "outputs": [
    {
     "name": "stdout",
     "output_type": "stream",
     "text": [
      "[[1, 4, 1], [3, 0, 4], [1, 4, 0], [0, 4, 1], [4, 2, 2], [2, 0, 1], [2, 0, 1], [3, 1, 3]]\n",
      "[[0, 1], [2, 3]]\n",
      "[3, 0, 4]\n",
      "[2, 0, 1]\n",
      "[2, 0, 1]\n",
      "[3, 1, 3]\n"
     ]
    }
   ],
   "source": [
    "#给定一个8X3的数组A和一个2X2的数组B，从A中找出满足条件的行，条件是B中每一行都有元素（至少一个）出现在A中这一行中?(不考虑B中每行元素顺序)(提示: np.where)\n",
    "#e.g. B = [[3,1],[2,4]]，A = [[3,2,0],[0,1,5],...]，那么这个A的第一行，也就是[3,2,0]是符合要求的，因为包含了B中第一行[3,1]中的3，\n",
    "#也包含第二行[2,4]中的2。但A的第二行[0,1,5]就不符合要求，因为只含有B中第一行的元素1，第二行[2,4]没有任何一个元素包含在[0,1,5]。\n",
    "A = np.random.randint(0,5,(8,3)).tolist()\n",
    "B = np.random.randint(0,5,(2,2)).tolist()\n",
    "print(A)\n",
    "print(B)\n",
    "for i in A:\n",
    "    if B[0][0] not in i and B[0][1] not in i:\n",
    "        continue\n",
    "    if B[1][0] not in i and B[1][1] not in i:\n",
    "        continue\n",
    "    print(i)\n"
   ]
  },
  {
   "cell_type": "code",
   "execution_count": null,
   "metadata": {},
   "outputs": [],
   "source": []
  }
 ],
 "metadata": {
  "kernelspec": {
   "display_name": "Python 3",
   "language": "python",
   "name": "python3"
  },
  "language_info": {
   "codemirror_mode": {
    "name": "ipython",
    "version": 3
   },
   "file_extension": ".py",
   "mimetype": "text/x-python",
   "name": "python",
   "nbconvert_exporter": "python",
   "pygments_lexer": "ipython3",
   "version": "3.8.3"
  }
 },
 "nbformat": 4,
 "nbformat_minor": 4
}
